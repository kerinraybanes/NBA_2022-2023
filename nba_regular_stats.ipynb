{
 "cells": [
  {
   "cell_type": "markdown",
   "metadata": {},
   "source": [
    "Import Libraries and choose style(s) for our future plots."
   ]
  },
  {
   "cell_type": "code",
   "execution_count": null,
   "metadata": {},
   "outputs": [],
   "source": [
    "import pandas as pd\n",
    "import numpy as np\n",
    "import matplotlib.pylab as plt\n",
    "import seaborn as sns\n",
    "plt.style.use('ggplot')"
   ]
  },
  {
   "cell_type": "markdown",
   "metadata": {},
   "source": [
    "Step 0: Import and Read Data"
   ]
  },
  {
   "cell_type": "code",
   "execution_count": null,
   "metadata": {},
   "outputs": [],
   "source": [
    "df_reg = pd.read_csv(r'C:\\Users\\Kerin B\\Desktop\\Datasets\\nba_regular_2223.csv', delimiter=',')"
   ]
  },
  {
   "cell_type": "markdown",
   "metadata": {},
   "source": [
    "Step 1: Understanding Our Data\n",
    "- Dataframe shape\n",
    "- head and tail of data\n",
    "- dtypes"
   ]
  },
  {
   "cell_type": "code",
   "execution_count": null,
   "metadata": {},
   "outputs": [],
   "source": [
    "df_reg.shape"
   ]
  },
  {
   "cell_type": "code",
   "execution_count": null,
   "metadata": {},
   "outputs": [],
   "source": [
    "df_reg.head()"
   ]
  },
  {
   "cell_type": "code",
   "execution_count": null,
   "metadata": {},
   "outputs": [],
   "source": [
    "df_reg.tail(5)"
   ]
  },
  {
   "cell_type": "code",
   "execution_count": null,
   "metadata": {},
   "outputs": [],
   "source": [
    "df_reg.columns"
   ]
  },
  {
   "cell_type": "code",
   "execution_count": null,
   "metadata": {},
   "outputs": [],
   "source": [
    "df_reg.dtypes"
   ]
  },
  {
   "cell_type": "markdown",
   "metadata": {},
   "source": [
    "Step 2: Data Preparation and Cleaning\n",
    "- checking for and removing duplicates\n",
    "- removing unneeded/unnecessary columns"
   ]
  },
  {
   "cell_type": "code",
   "execution_count": null,
   "metadata": {},
   "outputs": [],
   "source": [
    "counts = df_reg['Player'].value_counts()\n",
    "players_to_drop = counts[counts > 1].index\n",
    "total = 'TOT'\n",
    "(players_to_drop)"
   ]
  },
  {
   "cell_type": "code",
   "execution_count": null,
   "metadata": {},
   "outputs": [],
   "source": [
    "filtered_df = df_reg[~(df_reg['Player'].isin(players_to_drop) & (df_reg['Tm'] != total))]\n",
    "filtered_df.shape"
   ]
  },
  {
   "cell_type": "code",
   "execution_count": null,
   "metadata": {},
   "outputs": [],
   "source": [
    "number_of_players = filtered_df['Player'].value_counts().sum()\n",
    "unique_players = df_reg['Player'].nunique()\n",
    "print('Number of Entries:', number_of_players, '-- Number of Unique Players:', unique_players)"
   ]
  },
  {
   "cell_type": "code",
   "execution_count": null,
   "metadata": {},
   "outputs": [],
   "source": [
    "duplicates_mask = filtered_df['Player'].duplicated()\n",
    "duplicates_df = filtered_df[duplicates_mask]\n",
    "print(\"Duplicate Rows:\")\n",
    "(duplicates_df)"
   ]
  },
  {
   "cell_type": "code",
   "execution_count": null,
   "metadata": {},
   "outputs": [],
   "source": [
    "filtered_df_new = filtered_df.drop(['Rk', 'Age', 'Tm', 'GS'], axis=1)"
   ]
  },
  {
   "cell_type": "code",
   "execution_count": null,
   "metadata": {},
   "outputs": [],
   "source": [
    "filtered_df_new.set_index('Player', inplace = True)"
   ]
  },
  {
   "cell_type": "markdown",
   "metadata": {},
   "source": [
    "Step 3: Creating New Columns\n",
    "- MVP Eligibility based on Games Played and Average Minutes Played\n",
    "- Drop Rows of Players who are not MVP Eligible\n",
    "- Create Column of Overall Offensive and Defensive Stats"
   ]
  },
  {
   "cell_type": "code",
   "execution_count": null,
   "metadata": {},
   "outputs": [],
   "source": [
    "criteria_games = 65\n",
    "criteria_minutes = 20\n",
    "filtered_df_new['MVP Eligibility'] = np.where((filtered_df_new['G'] >= criteria_games) & (filtered_df_new['MP'] >= criteria_minutes), 'Yes', 'No')"
   ]
  },
  {
   "cell_type": "code",
   "execution_count": null,
   "metadata": {},
   "outputs": [],
   "source": [
    "df_reg_new = filtered_df_new[filtered_df_new['MVP Eligibility'] != 'No']"
   ]
  },
  {
   "cell_type": "code",
   "execution_count": null,
   "metadata": {},
   "outputs": [],
   "source": [
    "df_reg_new['Tot_OFF'] = df_reg_new['PTS'] + df_reg_new['AST'] + df_reg_new['ORB']\n",
    "df_reg_new['Tot_DEF'] = df_reg_new['STL'] + df_reg_new['BLK'] + df_reg_new['DRB']"
   ]
  },
  {
   "cell_type": "code",
   "execution_count": null,
   "metadata": {},
   "outputs": [],
   "source": [
    "df_reg_new.head(5)"
   ]
  },
  {
   "cell_type": "markdown",
   "metadata": {},
   "source": [
    "Step 4: Feature Relationships; Data Exploration\n",
    "- Number of Eligible Players in each Position\n",
    "- Field Goal Efficiency\n",
    "- 2 Pointer and 3 Pointer Efficiency\n",
    "- Defensive Efficiency\n",
    "- Non-scoring Offensive Efficiency\n",
    "- Rebounding Contributions\n",
    "- Total Overall Offensive and Defensive Statistics"
   ]
  },
  {
   "cell_type": "code",
   "execution_count": null,
   "metadata": {},
   "outputs": [],
   "source": [
    "position_counts = df_reg_new['Pos'].value_counts()\n",
    "\n",
    "plt.figure(figsize = (8,6))\n",
    "plt.bar(position_counts.index, position_counts.values, color = 'blue')\n",
    "\n",
    "plt.xlabel('Position')\n",
    "plt.ylabel('Number of MVP Eligible Players')\n",
    "plt.title('Distribution of MVP Eligible Player Positions')\n",
    "plt.show()\n"
   ]
  },
  {
   "cell_type": "code",
   "execution_count": null,
   "metadata": {},
   "outputs": [],
   "source": [
    "df_reg_top = df_reg_new.sort_values(by = 'PTS', ascending=False).head(10)\n",
    "df_reg_top['PTS'].plot(kind='bar', title='Top 10 Scorers (Players)', xlabel = 'Player', ylabel = 'Points Per Game')"
   ]
  },
  {
   "cell_type": "code",
   "execution_count": null,
   "metadata": {},
   "outputs": [],
   "source": [
    "pointsfg = ['PTS','FG', 'FGA', 'FG%', 'eFG%']\n",
    "\n",
    "ax = df_reg_top.plot(kind = 'scatter', title = 'Field Goal Efficiency of Top Scorers (Players)', x = 'FGA', y = 'FG')\n",
    "for i, row in df_reg_top.iterrows():\n",
    "    ax.annotate(row.name, (row['FGA'], row['FG']), textcoords=\"offset points\", xytext=(5, -10), ha='center')\n",
    "    ax.annotate(row['FG%'], (row['FGA'], row['FG']), textcoords=\"offset points\", xytext=(5, -20), ha='center', color = 'red')\n",
    "    ax.annotate(row['eFG%'], (row['FGA'], row['FG']), textcoords=\"offset points\", xytext=(5, -30), ha='center', color = 'blue')\n",
    "\n",
    "ax.scatter([], [], marker='o', label='eFG%', color='blue', alpha=1)\n",
    "ax.scatter([], [], marker='o', label='FG%', color='red', alpha=1)\n",
    "\n",
    "ax.legend()\n",
    "\n",
    "plt.show()\n",
    "df_reg_top[pointsfg]\n"
   ]
  },
  {
   "cell_type": "code",
   "execution_count": null,
   "metadata": {},
   "outputs": [],
   "source": [
    "points2 = ['PTS','2P', '2PA', '2P%']\n",
    "\n",
    "ax = df_reg_top.plot(kind = 'scatter', title = '2 Pointers of Top Scorers (Players)', x = '2PA', y = '2P')\n",
    "for i, row in df_reg_top.iterrows():\n",
    "    ax.annotate(row.name, (row['2PA'], row['2P']), textcoords=\"offset points\", xytext=(5, -10), ha='center')\n",
    "    ax.annotate(row['2P%'], (row['2PA'], row['2P']), textcoords=\"offset points\", xytext=(5, -20), ha='center', color = 'red')\n",
    "\n",
    "ax.scatter([], [], marker='o', label='2P%', color='red', alpha=1)\n",
    "\n",
    "ax.legend()\n",
    "\n",
    "plt.show()\n",
    "df_reg_top[points2]\n"
   ]
  },
  {
   "cell_type": "code",
   "execution_count": null,
   "metadata": {},
   "outputs": [],
   "source": [
    "points3 = ['PTS','3P', '3PA', '3P%']\n",
    "\n",
    "ax = df_reg_top.plot(kind = 'scatter', title = '3 Pointers of Top Scorers (Players)', x = '3PA', y = '3P')\n",
    "for i, row in df_reg_top.iterrows():\n",
    "    ax.annotate(row.name, (row['3PA'], row['3P']), textcoords=\"offset points\", xytext=(5, -10), ha='center')\n",
    "    ax.annotate(row['3P%'], (row['3PA'], row['3P']), textcoords=\"offset points\", xytext=(5, -20), ha='center', color = 'red')\n",
    "\n",
    "ax.scatter([], [], marker='o', label='3P%', color='red', alpha=1)\n",
    "\n",
    "ax.legend()\n",
    "\n",
    "plt.show()\n",
    "df_reg_top[points3]\n"
   ]
  },
  {
   "cell_type": "code",
   "execution_count": null,
   "metadata": {},
   "outputs": [],
   "source": [
    "points_STL_BLK_PF = ['PTS', 'STL', 'BLK', 'PF']\n",
    "\n",
    "ind = np.arange(len(df_reg_top))\n",
    "width = 0.3\n",
    "plt.figure(figsize=(20, 6))\n",
    "plt.bar(ind - width, df_reg_top['STL'], width, label='STL', color='blue')\n",
    "plt.bar(ind - width, df_reg_top['BLK'], width, label='BLK', color='red', bottom=df_reg_top['STL'])\n",
    "plt.bar(ind, df_reg_top['PF'], width, label='PF', color='green')\n",
    "\n",
    "plt.xlabel('Player')\n",
    "plt.ylabel('Values (Steals, Blocks, Fouls)')\n",
    "plt.title('Steals and Blocks vs Personal Fouls of Top Players')\n",
    "plt.xticks(ind, df_reg_top.index)  # Set x-axis labels\n",
    "plt.legend()\n",
    "plt.show()\n",
    "\n",
    "df_reg_top[points_STL_BLK_PF]"
   ]
  },
  {
   "cell_type": "code",
   "execution_count": null,
   "metadata": {},
   "outputs": [],
   "source": [
    "points_tov_ast = ['PTS', 'AST', 'TOV']\n",
    "\n",
    "ax = df_reg_top.plot(kind = 'scatter', title = 'Assists vs Turnovers of Top Players', x = 'TOV', y = 'AST')\n",
    "for i, row in df_reg_top.iterrows():\n",
    "    ax.annotate(row.name, (row['TOV'], row['AST']), textcoords=\"offset points\", xytext=(5, -10), ha='center')\n",
    "\n",
    "plt.show()\n",
    "df_reg_top[points_tov_ast]\n"
   ]
  },
  {
   "cell_type": "code",
   "execution_count": null,
   "metadata": {},
   "outputs": [],
   "source": [
    "rebounds = ['ORB', 'DRB', 'TRB']\n",
    "df_reg_top[rebounds]\n",
    "\n",
    "ind = np.arange(len(df_reg_top))\n",
    "width = 0.3\n",
    "plt.figure(figsize=(20, 6))\n",
    "plt.bar(ind - width, df_reg_top['ORB'], width, label='ORB', color='blue')\n",
    "plt.bar(ind - width, df_reg_top['DRB'], width, label='DRB', color='red', bottom=df_reg_top['ORB'])\n",
    "\n",
    "plt.xlabel('Player')\n",
    "plt.ylabel('Number of Rebounds')\n",
    "plt.title('Offensive and Defensive Rebounds of Top Players')\n",
    "plt.xticks(ind, df_reg_top.index)  # Set x-axis labels\n",
    "plt.legend()\n",
    "plt.show()"
   ]
  },
  {
   "cell_type": "code",
   "execution_count": null,
   "metadata": {},
   "outputs": [],
   "source": [
    "off_def_stats = ['Tot_OFF', 'Tot_DEF']\n",
    "\n",
    "ax = df_reg_top.plot(kind = 'scatter', title = 'Total Offensive and Defensive Stats of Top Players', x = 'Tot_DEF', y = 'Tot_OFF')\n",
    "for i, row in df_reg_top.iterrows():\n",
    "    ax.annotate(row.name, (row['Tot_DEF'], row['Tot_OFF']), textcoords=\"offset points\", xytext=(5, -10), ha='center')\n",
    "\n",
    "plt.show()\n",
    "df_reg_top[off_def_stats]"
   ]
  },
  {
   "cell_type": "markdown",
   "metadata": {},
   "source": [
    "Step 5: Saving the Data as a File"
   ]
  },
  {
   "cell_type": "code",
   "execution_count": null,
   "metadata": {},
   "outputs": [],
   "source": [
    "df_reg_top = df_reg_top.reset_index()\n",
    "df_reg_top.to_csv('nba_regular_stats_top.csv', index = False)"
   ]
  },
  {
   "cell_type": "code",
   "execution_count": null,
   "metadata": {},
   "outputs": [],
   "source": [
    "df_reg_new = df_reg_new.reset_index()\n",
    "df_reg_new.to_csv('nba_regular_stats_mvp_eligible.csv', index = False)"
   ]
  }
 ],
 "metadata": {
  "kernelspec": {
   "display_name": "Python 3",
   "language": "python",
   "name": "python3"
  },
  "language_info": {
   "codemirror_mode": {
    "name": "ipython",
    "version": 3
   },
   "file_extension": ".py",
   "mimetype": "text/x-python",
   "name": "python",
   "nbconvert_exporter": "python",
   "pygments_lexer": "ipython3",
   "version": "3.11.4"
  },
  "orig_nbformat": 4
 },
 "nbformat": 4,
 "nbformat_minor": 2
}
